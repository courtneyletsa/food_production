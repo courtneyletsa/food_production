{
 "cells": [
  {
   "cell_type": "code",
   "execution_count": 36,
   "id": "514fd3d3",
   "metadata": {},
   "outputs": [],
   "source": [
    "import pandas as pd\n",
    "import numpy as np\n",
    "import matplotlib.pyplot as plt\n",
    "import seaborn as sns"
   ]
  },
  {
   "cell_type": "code",
   "execution_count": 37,
   "id": "6ab5a329",
   "metadata": {},
   "outputs": [
    {
     "data": {
      "text/html": [
       "<div>\n",
       "<style scoped>\n",
       "    .dataframe tbody tr th:only-of-type {\n",
       "        vertical-align: middle;\n",
       "    }\n",
       "\n",
       "    .dataframe tbody tr th {\n",
       "        vertical-align: top;\n",
       "    }\n",
       "\n",
       "    .dataframe thead th {\n",
       "        text-align: right;\n",
       "    }\n",
       "</style>\n",
       "<table border=\"1\" class=\"dataframe\">\n",
       "  <thead>\n",
       "    <tr style=\"text-align: right;\">\n",
       "      <th></th>\n",
       "      <th>Food product</th>\n",
       "      <th>Land use change</th>\n",
       "      <th>Animal Feed</th>\n",
       "      <th>Farm</th>\n",
       "      <th>Processing</th>\n",
       "      <th>Transport</th>\n",
       "      <th>Packging</th>\n",
       "      <th>Retail</th>\n",
       "      <th>Total_emissions</th>\n",
       "      <th>Eutrophying emissions per 1000kcal (gPO₄eq per 1000kcal)</th>\n",
       "      <th>...</th>\n",
       "      <th>Freshwater withdrawals per 100g protein (liters per 100g protein)</th>\n",
       "      <th>Freshwater withdrawals per kilogram (liters per kilogram)</th>\n",
       "      <th>Greenhouse gas emissions per 1000kcal (kgCO₂eq per 1000kcal)</th>\n",
       "      <th>Greenhouse gas emissions per 100g protein (kgCO₂eq per 100g protein)</th>\n",
       "      <th>Land use per 1000kcal (m² per 1000kcal)</th>\n",
       "      <th>Land use per kilogram (m² per kilogram)</th>\n",
       "      <th>Land use per 100g protein (m² per 100g protein)</th>\n",
       "      <th>Scarcity-weighted water use per kilogram (liters per kilogram)</th>\n",
       "      <th>Scarcity-weighted water use per 100g protein (liters per 100g protein)</th>\n",
       "      <th>Scarcity-weighted water use per 1000kcal (liters per 1000 kilocalories)</th>\n",
       "    </tr>\n",
       "  </thead>\n",
       "  <tbody>\n",
       "    <tr>\n",
       "      <th>0</th>\n",
       "      <td>Wheat &amp; Rye (Bread)</td>\n",
       "      <td>0.1</td>\n",
       "      <td>0.0</td>\n",
       "      <td>0.8</td>\n",
       "      <td>0.2</td>\n",
       "      <td>0.1</td>\n",
       "      <td>0.1</td>\n",
       "      <td>0.1</td>\n",
       "      <td>1.4</td>\n",
       "      <td>NaN</td>\n",
       "      <td>...</td>\n",
       "      <td>NaN</td>\n",
       "      <td>NaN</td>\n",
       "      <td>NaN</td>\n",
       "      <td>NaN</td>\n",
       "      <td>NaN</td>\n",
       "      <td>NaN</td>\n",
       "      <td>NaN</td>\n",
       "      <td>NaN</td>\n",
       "      <td>NaN</td>\n",
       "      <td>NaN</td>\n",
       "    </tr>\n",
       "    <tr>\n",
       "      <th>1</th>\n",
       "      <td>Maize (Meal)</td>\n",
       "      <td>0.3</td>\n",
       "      <td>0.0</td>\n",
       "      <td>0.5</td>\n",
       "      <td>0.1</td>\n",
       "      <td>0.1</td>\n",
       "      <td>0.1</td>\n",
       "      <td>0.0</td>\n",
       "      <td>1.1</td>\n",
       "      <td>NaN</td>\n",
       "      <td>...</td>\n",
       "      <td>NaN</td>\n",
       "      <td>NaN</td>\n",
       "      <td>NaN</td>\n",
       "      <td>NaN</td>\n",
       "      <td>NaN</td>\n",
       "      <td>NaN</td>\n",
       "      <td>NaN</td>\n",
       "      <td>NaN</td>\n",
       "      <td>NaN</td>\n",
       "      <td>NaN</td>\n",
       "    </tr>\n",
       "    <tr>\n",
       "      <th>2</th>\n",
       "      <td>Barley (Beer)</td>\n",
       "      <td>0.0</td>\n",
       "      <td>0.0</td>\n",
       "      <td>0.2</td>\n",
       "      <td>0.1</td>\n",
       "      <td>0.0</td>\n",
       "      <td>0.5</td>\n",
       "      <td>0.3</td>\n",
       "      <td>1.1</td>\n",
       "      <td>NaN</td>\n",
       "      <td>...</td>\n",
       "      <td>NaN</td>\n",
       "      <td>NaN</td>\n",
       "      <td>NaN</td>\n",
       "      <td>NaN</td>\n",
       "      <td>NaN</td>\n",
       "      <td>NaN</td>\n",
       "      <td>NaN</td>\n",
       "      <td>NaN</td>\n",
       "      <td>NaN</td>\n",
       "      <td>NaN</td>\n",
       "    </tr>\n",
       "    <tr>\n",
       "      <th>3</th>\n",
       "      <td>Oatmeal</td>\n",
       "      <td>0.0</td>\n",
       "      <td>0.0</td>\n",
       "      <td>1.4</td>\n",
       "      <td>0.0</td>\n",
       "      <td>0.1</td>\n",
       "      <td>0.1</td>\n",
       "      <td>0.0</td>\n",
       "      <td>1.6</td>\n",
       "      <td>4.281357</td>\n",
       "      <td>...</td>\n",
       "      <td>371.076923</td>\n",
       "      <td>482.4</td>\n",
       "      <td>0.945482</td>\n",
       "      <td>1.907692</td>\n",
       "      <td>2.897446</td>\n",
       "      <td>7.6</td>\n",
       "      <td>5.846154</td>\n",
       "      <td>18786.2</td>\n",
       "      <td>14450.92308</td>\n",
       "      <td>7162.104461</td>\n",
       "    </tr>\n",
       "    <tr>\n",
       "      <th>4</th>\n",
       "      <td>Rice</td>\n",
       "      <td>0.0</td>\n",
       "      <td>0.0</td>\n",
       "      <td>3.6</td>\n",
       "      <td>0.1</td>\n",
       "      <td>0.1</td>\n",
       "      <td>0.1</td>\n",
       "      <td>0.1</td>\n",
       "      <td>4.0</td>\n",
       "      <td>9.514379</td>\n",
       "      <td>...</td>\n",
       "      <td>3166.760563</td>\n",
       "      <td>2248.4</td>\n",
       "      <td>1.207271</td>\n",
       "      <td>6.267606</td>\n",
       "      <td>0.759631</td>\n",
       "      <td>2.8</td>\n",
       "      <td>3.943662</td>\n",
       "      <td>49576.3</td>\n",
       "      <td>69825.77465</td>\n",
       "      <td>13449.891480</td>\n",
       "    </tr>\n",
       "  </tbody>\n",
       "</table>\n",
       "<p>5 rows × 23 columns</p>\n",
       "</div>"
      ],
      "text/plain": [
       "          Food product  Land use change  Animal Feed  Farm  Processing  \\\n",
       "0  Wheat & Rye (Bread)              0.1          0.0   0.8         0.2   \n",
       "1         Maize (Meal)              0.3          0.0   0.5         0.1   \n",
       "2        Barley (Beer)              0.0          0.0   0.2         0.1   \n",
       "3              Oatmeal              0.0          0.0   1.4         0.0   \n",
       "4                 Rice              0.0          0.0   3.6         0.1   \n",
       "\n",
       "   Transport  Packging  Retail  Total_emissions  \\\n",
       "0        0.1       0.1     0.1              1.4   \n",
       "1        0.1       0.1     0.0              1.1   \n",
       "2        0.0       0.5     0.3              1.1   \n",
       "3        0.1       0.1     0.0              1.6   \n",
       "4        0.1       0.1     0.1              4.0   \n",
       "\n",
       "   Eutrophying emissions per 1000kcal (gPO₄eq per 1000kcal)  ...  \\\n",
       "0                                                NaN         ...   \n",
       "1                                                NaN         ...   \n",
       "2                                                NaN         ...   \n",
       "3                                           4.281357         ...   \n",
       "4                                           9.514379         ...   \n",
       "\n",
       "   Freshwater withdrawals per 100g protein (liters per 100g protein)  \\\n",
       "0                                                NaN                   \n",
       "1                                                NaN                   \n",
       "2                                                NaN                   \n",
       "3                                         371.076923                   \n",
       "4                                        3166.760563                   \n",
       "\n",
       "   Freshwater withdrawals per kilogram (liters per kilogram)  \\\n",
       "0                                                NaN           \n",
       "1                                                NaN           \n",
       "2                                                NaN           \n",
       "3                                              482.4           \n",
       "4                                             2248.4           \n",
       "\n",
       "   Greenhouse gas emissions per 1000kcal (kgCO₂eq per 1000kcal)  \\\n",
       "0                                                NaN              \n",
       "1                                                NaN              \n",
       "2                                                NaN              \n",
       "3                                           0.945482              \n",
       "4                                           1.207271              \n",
       "\n",
       "   Greenhouse gas emissions per 100g protein (kgCO₂eq per 100g protein)  \\\n",
       "0                                                NaN                      \n",
       "1                                                NaN                      \n",
       "2                                                NaN                      \n",
       "3                                           1.907692                      \n",
       "4                                           6.267606                      \n",
       "\n",
       "   Land use per 1000kcal (m² per 1000kcal)  \\\n",
       "0                                      NaN   \n",
       "1                                      NaN   \n",
       "2                                      NaN   \n",
       "3                                 2.897446   \n",
       "4                                 0.759631   \n",
       "\n",
       "   Land use per kilogram (m² per kilogram)  \\\n",
       "0                                      NaN   \n",
       "1                                      NaN   \n",
       "2                                      NaN   \n",
       "3                                      7.6   \n",
       "4                                      2.8   \n",
       "\n",
       "   Land use per 100g protein (m² per 100g protein)  \\\n",
       "0                                              NaN   \n",
       "1                                              NaN   \n",
       "2                                              NaN   \n",
       "3                                         5.846154   \n",
       "4                                         3.943662   \n",
       "\n",
       "   Scarcity-weighted water use per kilogram (liters per kilogram)  \\\n",
       "0                                                NaN                \n",
       "1                                                NaN                \n",
       "2                                                NaN                \n",
       "3                                            18786.2                \n",
       "4                                            49576.3                \n",
       "\n",
       "   Scarcity-weighted water use per 100g protein (liters per 100g protein)  \\\n",
       "0                                                NaN                        \n",
       "1                                                NaN                        \n",
       "2                                                NaN                        \n",
       "3                                        14450.92308                        \n",
       "4                                        69825.77465                        \n",
       "\n",
       "   Scarcity-weighted water use per 1000kcal (liters per 1000 kilocalories)  \n",
       "0                                                NaN                        \n",
       "1                                                NaN                        \n",
       "2                                                NaN                        \n",
       "3                                        7162.104461                        \n",
       "4                                       13449.891480                        \n",
       "\n",
       "[5 rows x 23 columns]"
      ]
     },
     "execution_count": 37,
     "metadata": {},
     "output_type": "execute_result"
    }
   ],
   "source": [
    "df = pd.read_csv(\"Food_Production.csv\")\n",
    "df.head()"
   ]
  },
  {
   "cell_type": "code",
   "execution_count": 38,
   "id": "ab6ecd08",
   "metadata": {},
   "outputs": [
    {
     "data": {
      "text/plain": [
       "(43, 23)"
      ]
     },
     "execution_count": 38,
     "metadata": {},
     "output_type": "execute_result"
    }
   ],
   "source": [
    "df.shape"
   ]
  },
  {
   "cell_type": "code",
   "execution_count": 39,
   "id": "bcb1a721",
   "metadata": {
    "scrolled": false
   },
   "outputs": [
    {
     "name": "stdout",
     "output_type": "stream",
     "text": [
      "<class 'pandas.core.frame.DataFrame'>\n",
      "RangeIndex: 43 entries, 0 to 42\n",
      "Data columns (total 23 columns):\n",
      " #   Column                                                                   Non-Null Count  Dtype  \n",
      "---  ------                                                                   --------------  -----  \n",
      " 0   Food product                                                             43 non-null     object \n",
      " 1   Land use change                                                          43 non-null     float64\n",
      " 2   Animal Feed                                                              43 non-null     float64\n",
      " 3   Farm                                                                     43 non-null     float64\n",
      " 4   Processing                                                               43 non-null     float64\n",
      " 5   Transport                                                                43 non-null     float64\n",
      " 6   Packging                                                                 43 non-null     float64\n",
      " 7   Retail                                                                   43 non-null     float64\n",
      " 8   Total_emissions                                                          43 non-null     float64\n",
      " 9   Eutrophying emissions per 1000kcal (gPO₄eq per 1000kcal)                 33 non-null     float64\n",
      " 10  Eutrophying emissions per kilogram (gPO₄eq per kilogram)                 38 non-null     float64\n",
      " 11  Eutrophying emissions per 100g protein (gPO₄eq per 100 grams protein)    27 non-null     float64\n",
      " 12  Freshwater withdrawals per 1000kcal (liters per 1000kcal)                30 non-null     float64\n",
      " 13  Freshwater withdrawals per 100g protein (liters per 100g protein)        26 non-null     float64\n",
      " 14  Freshwater withdrawals per kilogram (liters per kilogram)                38 non-null     float64\n",
      " 15  Greenhouse gas emissions per 1000kcal (kgCO₂eq per 1000kcal)             33 non-null     float64\n",
      " 16  Greenhouse gas emissions per 100g protein (kgCO₂eq per 100g protein)     27 non-null     float64\n",
      " 17  Land use per 1000kcal (m² per 1000kcal)                                  33 non-null     float64\n",
      " 18  Land use per kilogram (m² per kilogram)                                  38 non-null     float64\n",
      " 19  Land use per 100g protein (m² per 100g protein)                          27 non-null     float64\n",
      " 20  Scarcity-weighted water use per kilogram (liters per kilogram)           38 non-null     float64\n",
      " 21  Scarcity-weighted water use per 100g protein (liters per 100g protein)   26 non-null     float64\n",
      " 22  Scarcity-weighted water use per 1000kcal (liters per 1000 kilocalories)  30 non-null     float64\n",
      "dtypes: float64(22), object(1)\n",
      "memory usage: 7.9+ KB\n"
     ]
    }
   ],
   "source": [
    "df.info()"
   ]
  },
  {
   "cell_type": "code",
   "execution_count": 40,
   "id": "f15e951c",
   "metadata": {},
   "outputs": [
    {
     "data": {
      "text/plain": [
       "array(['Wheat & Rye (Bread)', 'Maize (Meal)', 'Barley (Beer)', 'Oatmeal',\n",
       "       'Rice', 'Potatoes', 'Cassava', 'Cane Sugar', 'Beet Sugar',\n",
       "       'Other Pulses', 'Peas', 'Nuts', 'Groundnuts', 'Soymilk', 'Tofu',\n",
       "       'Soybean Oil', 'Palm Oil', 'Sunflower Oil', 'Rapeseed Oil',\n",
       "       'Olive Oil', 'Tomatoes', 'Onions & Leeks', 'Root Vegetables',\n",
       "       'Brassicas', 'Other Vegetables', 'Citrus Fruit', 'Bananas',\n",
       "       'Apples', 'Berries & Grapes', 'Wine', 'Other Fruit', 'Coffee',\n",
       "       'Dark Chocolate', 'Beef (beef herd)', 'Beef (dairy herd)',\n",
       "       'Lamb & Mutton', 'Pig Meat', 'Poultry Meat', 'Milk', 'Cheese',\n",
       "       'Eggs', 'Fish (farmed)', 'Shrimps (farmed)'], dtype=object)"
      ]
     },
     "execution_count": 40,
     "metadata": {},
     "output_type": "execute_result"
    }
   ],
   "source": [
    "df['Food product'].unique()"
   ]
  },
  {
   "cell_type": "code",
   "execution_count": 41,
   "id": "1d311510",
   "metadata": {},
   "outputs": [
    {
     "data": {
      "text/plain": [
       "Index(['Food product', 'Land use change', 'Animal Feed', 'Farm', 'Processing',\n",
       "       'Transport', 'Packging', 'Retail', 'Total_emissions',\n",
       "       'Eutrophying emissions per 1000kcal (gPO₄eq per 1000kcal)',\n",
       "       'Eutrophying emissions per kilogram (gPO₄eq per kilogram)',\n",
       "       'Eutrophying emissions per 100g protein (gPO₄eq per 100 grams protein)',\n",
       "       'Freshwater withdrawals per 1000kcal (liters per 1000kcal)',\n",
       "       'Freshwater withdrawals per 100g protein (liters per 100g protein)',\n",
       "       'Freshwater withdrawals per kilogram (liters per kilogram)',\n",
       "       'Greenhouse gas emissions per 1000kcal (kgCO₂eq per 1000kcal)',\n",
       "       'Greenhouse gas emissions per 100g protein (kgCO₂eq per 100g protein)',\n",
       "       'Land use per 1000kcal (m² per 1000kcal)',\n",
       "       'Land use per kilogram (m² per kilogram)',\n",
       "       'Land use per 100g protein (m² per 100g protein)',\n",
       "       'Scarcity-weighted water use per kilogram (liters per kilogram)',\n",
       "       'Scarcity-weighted water use per 100g protein (liters per 100g protein)',\n",
       "       'Scarcity-weighted water use per 1000kcal (liters per 1000 kilocalories)'],\n",
       "      dtype='object')"
      ]
     },
     "execution_count": 41,
     "metadata": {},
     "output_type": "execute_result"
    }
   ],
   "source": [
    "df.columns"
   ]
  },
  {
   "cell_type": "markdown",
   "id": "85cd0161",
   "metadata": {},
   "source": [
    "### Data cleaning"
   ]
  },
  {
   "cell_type": "markdown",
   "id": "40f43f2e",
   "metadata": {},
   "source": [
    "To fill in some of the missing values for the columns, I found the values for some food products on this website [https://ourworldindata.org/grapher/ghg-kcal-poore?tab=table&tableSearch=praw] and for the values I did not find, I replaced the missing values with 0\n"
   ]
  },
  {
   "cell_type": "code",
   "execution_count": 42,
   "id": "bf5e72c9",
   "metadata": {},
   "outputs": [
    {
     "name": "stdout",
     "output_type": "stream",
     "text": [
      "Food products with missing Eutrophying emissions per kilogram:\n",
      "- Wheat & Rye (Bread)\n",
      "- Maize (Meal)\n",
      "- Barley (Beer)\n",
      "- Tofu\n",
      "- Shrimps (farmed)\n"
     ]
    }
   ],
   "source": [
    "# Identify missing values in \"Eutrophying emissions per kilogram\"\n",
    "missing_products = df.loc[\n",
    "    df[\"Eutrophying emissions per kilogram (gPO₄eq per kilogram)\"].isna(),\n",
    "    \"Food product\"\n",
    "].unique()\n",
    "\n",
    "print(\"Food products with missing Eutrophying emissions per kilogram:\")\n",
    "for product in missing_products:\n",
    "    print(\"-\", product)"
   ]
  },
  {
   "cell_type": "code",
   "execution_count": 43,
   "id": "02e859db",
   "metadata": {},
   "outputs": [],
   "source": [
    "# Dictionary of food products and their eutrophying emissions values\n",
    "new_values = {\n",
    "    \"Wheat & Rye (Bread)\": 7.16,\n",
    "    \"Maize (Meal)\": 4.03,\n",
    "    \"Barley (Beer)\": 2.33,\n",
    "    \"Tofu\": 6.16,\n",
    "    \"Shrimps (farmed)\": 227.22\n",
    "}\n",
    "\n",
    "# Loop through dictionary and update values only if missing\n",
    "for food, value in new_values.items():\n",
    "    df.loc[\n",
    "        (df[\"Food product\"] == food) & \n",
    "        (df[\"Eutrophying emissions per kilogram (gPO₄eq per kilogram)\"].isna()),\n",
    "        \"Eutrophying emissions per kilogram (gPO₄eq per kilogram)\"\n",
    "    ] = value\n",
    "\n",
    "# # Verify the updates\n",
    "# print(df[df[\"Food product\"].isin(new_values.keys())][\n",
    "#     [\"Food product\", \"Eutrophying emissions per kilogram (gPO₄eq per kilogram)\"]\n",
    "# ])\n"
   ]
  },
  {
   "cell_type": "code",
   "execution_count": 44,
   "id": "66b59dce",
   "metadata": {},
   "outputs": [],
   "source": [
    "# Dictionary of food products and their eutrophying emissions per 100g of protein values\n",
    "new_values = {\n",
    "    \"Wheat & Rye (Bread)\": 5.9,\n",
    "    \"Maize (Meal)\": 4.2,\n",
    "    \"Tofu\": 3.9,\n",
    "    \"Shrimps (farmed)\": 153.8\n",
    "}\n",
    "\n",
    "# Loop through dictionary and update values only if missing\n",
    "for food, value in new_values.items():\n",
    "    df.loc[\n",
    "        (df[\"Food product\"] == food) & \n",
    "        (df[\"Eutrophying emissions per 100g protein (gPO₄eq per 100 grams protein)\"].isna()),\n",
    "        \"Eutrophying emissions per 100g protein (gPO₄eq per 100 grams protein)\"\n",
    "    ] = value"
   ]
  },
  {
   "cell_type": "code",
   "execution_count": 45,
   "id": "15c0207d",
   "metadata": {},
   "outputs": [],
   "source": [
    "# fill the rest of then NAN values with 0\n",
    "df[\"Eutrophying emissions per 100g protein (gPO₄eq per 100 grams protein)\"].fillna(0, inplace=True)"
   ]
  },
  {
   "cell_type": "code",
   "execution_count": 46,
   "id": "309e6287",
   "metadata": {},
   "outputs": [],
   "source": [
    "# Dictionary of food products and their eutrophying emissions per 1000kcal of protein values\n",
    "new_values = {\n",
    "    \"Wheat & Rye (Bread)\": 2.7,\n",
    "    \"Maize (Meal)\": 0.9,\n",
    "    \"Barley (Beer)\": 0.5,\n",
    "    \"Tofu\": 2.3,\n",
    "    \"Shrimps (farmed)\": 220.6\n",
    "}\n",
    "\n",
    "# Loop through dictionary and update values only if missing\n",
    "for food, value in new_values.items():\n",
    "    df.loc[\n",
    "        (df[\"Food product\"] == food) & \n",
    "        (df[\"Eutrophying emissions per 1000kcal (gPO₄eq per 1000kcal)\"].isna()),\n",
    "        \"Eutrophying emissions per 1000kcal (gPO₄eq per 1000kcal)\"\n",
    "    ] = value"
   ]
  },
  {
   "cell_type": "code",
   "execution_count": 47,
   "id": "32f91101",
   "metadata": {},
   "outputs": [],
   "source": [
    "# fill the rest of then NAN values with 0\n",
    "df[\"Eutrophying emissions per 1000kcal (gPO₄eq per 1000kcal)\"].fillna(0, inplace=True)"
   ]
  },
  {
   "cell_type": "code",
   "execution_count": 48,
   "id": "d5ab888a",
   "metadata": {},
   "outputs": [],
   "source": [
    "# Dictionary of food products and their Greenhouse gas emissions per 100g of protein values\n",
    "new_values = {\n",
    "    \"Wheat & Rye (Bread)\": 1.29,\n",
    "    \"Maize (Meal)\": 1.79,\n",
    "    \"Tofu\": 1.98,\n",
    "    \"Shrimps (farmed)\": 18.19\n",
    "}\n",
    "\n",
    "# Loop through dictionary and update values only if missing\n",
    "for food, value in new_values.items():\n",
    "    df.loc[\n",
    "        (df[\"Food product\"] == food) & \n",
    "        (df[\"Greenhouse gas emissions per 100g protein (kgCO₂eq per 100g protein)\"].isna()),\n",
    "        \"Greenhouse gas emissions per 100g protein (kgCO₂eq per 100g protein)\"\n",
    "    ] = value"
   ]
  },
  {
   "cell_type": "code",
   "execution_count": 49,
   "id": "842683a0",
   "metadata": {},
   "outputs": [],
   "source": [
    "# fill the rest of then NAN values with 0\n",
    "df[\"Greenhouse gas emissions per 100g protein (kgCO₂eq per 100g protein)\"].fillna(0, inplace=True)"
   ]
  },
  {
   "cell_type": "code",
   "execution_count": 50,
   "id": "f03c0bc2",
   "metadata": {},
   "outputs": [],
   "source": [
    "# Dictionary of food products and their Greenhouse gas emissions per 100g of protein values\n",
    "new_values = {\n",
    "    \"Wheat & Rye (Bread)\": 0.59,\n",
    "    \"Maize (Meal)\": 0.38,\n",
    "    \"Barley (Beer)\": 0.24,\n",
    "    \"Tofu\": 1.17,\n",
    "    \"Shrimps (farmed)\": 26.09\n",
    "}\n",
    "\n",
    "# Loop through dictionary and update values only if missing\n",
    "for food, value in new_values.items():\n",
    "    df.loc[\n",
    "        (df[\"Food product\"] == food) & \n",
    "        (df[\"Greenhouse gas emissions per 1000kcal (kgCO₂eq per 1000kcal)\"].isna()),\n",
    "        \"Greenhouse gas emissions per 1000kcal (kgCO₂eq per 1000kcal)\"\n",
    "    ] = value"
   ]
  },
  {
   "cell_type": "code",
   "execution_count": 51,
   "id": "304689ff",
   "metadata": {},
   "outputs": [],
   "source": [
    "df[\"Greenhouse gas emissions per 100g protein (kgCO₂eq per 100g protein)\"].fillna(0, inplace=True)"
   ]
  },
  {
   "cell_type": "markdown",
   "id": "285c8a34",
   "metadata": {},
   "source": [
    "### Business Questions"
   ]
  },
  {
   "cell_type": "markdown",
   "id": "7b6c32eb",
   "metadata": {},
   "source": [
    "Q1. Which food products contribute the most to total greenhouse gas emissions?\n",
    "\n",
    "Hypothesis: Animal-based foods (especially red meats like beef and lamb) will dominate the top contributors to emissions, while plant-based staples (grains, legumes) will rank among the lowest."
   ]
  },
  {
   "cell_type": "markdown",
   "id": "9c715c5e",
   "metadata": {},
   "source": [
    "Q2. How do animal-based vs. plant-based foods differ in carbon, water, and land use impacts?\n",
    "\n",
    "Hypothesis: Animal-based foods will show significantly higher GHG emissions, water use, and land use compared to plant-based foods, even when adjusted per kilogram or per protein."
   ]
  },
  {
   "cell_type": "markdown",
   "id": "985c65f9",
   "metadata": {},
   "source": [
    "Q3. What food products require the highest water withdrawals per kilogram?\n",
    "\n",
    "Hypothesis: Rice, nuts (like almonds), and some fruits will have extremely high freshwater withdrawals compared to cereals and pulses. Beef and dairy will also rank high due to water-intensive feed."
   ]
  },
  {
   "cell_type": "markdown",
   "id": "3d85e460",
   "metadata": {},
   "source": [
    "Q4. Which foods have the largest land footprint per kg and per 100g protein?\n",
    "\n",
    "Hypothesis: Beef, lamb, and dairy products will require the largest land use per kg and per protein, while lentils and peas will have a much smaller footprint."
   ]
  },
  {
   "cell_type": "markdown",
   "id": "4267c817",
   "metadata": {},
   "source": [
    "Q5. How does processing & transportation compare to farming in contributing to emissions?\n",
    "\n",
    "Hypothesis: Farming will account for the majority of emissions, while processing and transport will contribute relatively little (<15% of total emissions) for most products."
   ]
  },
  {
   "cell_type": "markdown",
   "id": "af0ede5d",
   "metadata": {},
   "source": [
    "Q6. Are there foods that provide high protein with relatively low environmental cost?\n",
    "\n",
    "Hypothesis: Legumes (lentils, peas, beans) and some cereals will deliver high protein with lower emissions, land, and water footprints compared to animal protein."
   ]
  },
  {
   "cell_type": "markdown",
   "id": "efd0b2b7",
   "metadata": {},
   "source": [
    "Q7. What are the top 10 most sustainable foods (lowest emissions + water + land use combined)?\n",
    "\n",
    "Hypothesis: Plant-based staples (potatoes, oats, peas, lentils, maize) will appear in the top 10, while animal-based foods will dominate the bottom sustainability rankings."
   ]
  },
  {
   "cell_type": "markdown",
   "id": "8b57065f",
   "metadata": {},
   "source": [
    "Q8. Between these 4 commonly grown crops in Ghana, rice, cassave, groundnut and maize, which crop has higher eutrophying emissions per kilogram and what does this mean for farmers aiming to minimize nutrient pollution?"
   ]
  },
  {
   "cell_type": "markdown",
   "id": "cbe2b30e",
   "metadata": {},
   "source": [
    "### categorizing food into plant_based and animal_based"
   ]
  },
  {
   "cell_type": "code",
   "execution_count": 52,
   "id": "6a1764ff",
   "metadata": {},
   "outputs": [],
   "source": [
    "df[\"Category\"] = df[\"Animal Feed\"].apply(lambda x: \"Plant-based\" if x == 0 else \"Animal-based\")"
   ]
  },
  {
   "cell_type": "code",
   "execution_count": 53,
   "id": "822a736c",
   "metadata": {},
   "outputs": [
    {
     "data": {
      "text/html": [
       "<div>\n",
       "<style scoped>\n",
       "    .dataframe tbody tr th:only-of-type {\n",
       "        vertical-align: middle;\n",
       "    }\n",
       "\n",
       "    .dataframe tbody tr th {\n",
       "        vertical-align: top;\n",
       "    }\n",
       "\n",
       "    .dataframe thead th {\n",
       "        text-align: right;\n",
       "    }\n",
       "</style>\n",
       "<table border=\"1\" class=\"dataframe\">\n",
       "  <thead>\n",
       "    <tr style=\"text-align: right;\">\n",
       "      <th></th>\n",
       "      <th>Food product</th>\n",
       "      <th>Land use change</th>\n",
       "      <th>Animal Feed</th>\n",
       "      <th>Farm</th>\n",
       "      <th>Processing</th>\n",
       "      <th>Transport</th>\n",
       "      <th>Packging</th>\n",
       "      <th>Retail</th>\n",
       "      <th>Total_emissions</th>\n",
       "      <th>Eutrophying emissions per 1000kcal (gPO₄eq per 1000kcal)</th>\n",
       "      <th>...</th>\n",
       "      <th>Freshwater withdrawals per kilogram (liters per kilogram)</th>\n",
       "      <th>Greenhouse gas emissions per 1000kcal (kgCO₂eq per 1000kcal)</th>\n",
       "      <th>Greenhouse gas emissions per 100g protein (kgCO₂eq per 100g protein)</th>\n",
       "      <th>Land use per 1000kcal (m² per 1000kcal)</th>\n",
       "      <th>Land use per kilogram (m² per kilogram)</th>\n",
       "      <th>Land use per 100g protein (m² per 100g protein)</th>\n",
       "      <th>Scarcity-weighted water use per kilogram (liters per kilogram)</th>\n",
       "      <th>Scarcity-weighted water use per 100g protein (liters per 100g protein)</th>\n",
       "      <th>Scarcity-weighted water use per 1000kcal (liters per 1000 kilocalories)</th>\n",
       "      <th>Category</th>\n",
       "    </tr>\n",
       "  </thead>\n",
       "  <tbody>\n",
       "    <tr>\n",
       "      <th>0</th>\n",
       "      <td>Wheat &amp; Rye (Bread)</td>\n",
       "      <td>0.1</td>\n",
       "      <td>0.0</td>\n",
       "      <td>0.8</td>\n",
       "      <td>0.2</td>\n",
       "      <td>0.1</td>\n",
       "      <td>0.1</td>\n",
       "      <td>0.1</td>\n",
       "      <td>1.4</td>\n",
       "      <td>2.700000</td>\n",
       "      <td>...</td>\n",
       "      <td>NaN</td>\n",
       "      <td>0.590000</td>\n",
       "      <td>1.290000</td>\n",
       "      <td>NaN</td>\n",
       "      <td>NaN</td>\n",
       "      <td>NaN</td>\n",
       "      <td>NaN</td>\n",
       "      <td>NaN</td>\n",
       "      <td>NaN</td>\n",
       "      <td>Plant-based</td>\n",
       "    </tr>\n",
       "    <tr>\n",
       "      <th>1</th>\n",
       "      <td>Maize (Meal)</td>\n",
       "      <td>0.3</td>\n",
       "      <td>0.0</td>\n",
       "      <td>0.5</td>\n",
       "      <td>0.1</td>\n",
       "      <td>0.1</td>\n",
       "      <td>0.1</td>\n",
       "      <td>0.0</td>\n",
       "      <td>1.1</td>\n",
       "      <td>0.900000</td>\n",
       "      <td>...</td>\n",
       "      <td>NaN</td>\n",
       "      <td>0.380000</td>\n",
       "      <td>1.790000</td>\n",
       "      <td>NaN</td>\n",
       "      <td>NaN</td>\n",
       "      <td>NaN</td>\n",
       "      <td>NaN</td>\n",
       "      <td>NaN</td>\n",
       "      <td>NaN</td>\n",
       "      <td>Plant-based</td>\n",
       "    </tr>\n",
       "    <tr>\n",
       "      <th>2</th>\n",
       "      <td>Barley (Beer)</td>\n",
       "      <td>0.0</td>\n",
       "      <td>0.0</td>\n",
       "      <td>0.2</td>\n",
       "      <td>0.1</td>\n",
       "      <td>0.0</td>\n",
       "      <td>0.5</td>\n",
       "      <td>0.3</td>\n",
       "      <td>1.1</td>\n",
       "      <td>0.500000</td>\n",
       "      <td>...</td>\n",
       "      <td>NaN</td>\n",
       "      <td>0.240000</td>\n",
       "      <td>0.000000</td>\n",
       "      <td>NaN</td>\n",
       "      <td>NaN</td>\n",
       "      <td>NaN</td>\n",
       "      <td>NaN</td>\n",
       "      <td>NaN</td>\n",
       "      <td>NaN</td>\n",
       "      <td>Plant-based</td>\n",
       "    </tr>\n",
       "    <tr>\n",
       "      <th>3</th>\n",
       "      <td>Oatmeal</td>\n",
       "      <td>0.0</td>\n",
       "      <td>0.0</td>\n",
       "      <td>1.4</td>\n",
       "      <td>0.0</td>\n",
       "      <td>0.1</td>\n",
       "      <td>0.1</td>\n",
       "      <td>0.0</td>\n",
       "      <td>1.6</td>\n",
       "      <td>4.281357</td>\n",
       "      <td>...</td>\n",
       "      <td>482.4</td>\n",
       "      <td>0.945482</td>\n",
       "      <td>1.907692</td>\n",
       "      <td>2.897446</td>\n",
       "      <td>7.6</td>\n",
       "      <td>5.846154</td>\n",
       "      <td>18786.2</td>\n",
       "      <td>14450.92308</td>\n",
       "      <td>7162.104461</td>\n",
       "      <td>Plant-based</td>\n",
       "    </tr>\n",
       "    <tr>\n",
       "      <th>4</th>\n",
       "      <td>Rice</td>\n",
       "      <td>0.0</td>\n",
       "      <td>0.0</td>\n",
       "      <td>3.6</td>\n",
       "      <td>0.1</td>\n",
       "      <td>0.1</td>\n",
       "      <td>0.1</td>\n",
       "      <td>0.1</td>\n",
       "      <td>4.0</td>\n",
       "      <td>9.514379</td>\n",
       "      <td>...</td>\n",
       "      <td>2248.4</td>\n",
       "      <td>1.207271</td>\n",
       "      <td>6.267606</td>\n",
       "      <td>0.759631</td>\n",
       "      <td>2.8</td>\n",
       "      <td>3.943662</td>\n",
       "      <td>49576.3</td>\n",
       "      <td>69825.77465</td>\n",
       "      <td>13449.891480</td>\n",
       "      <td>Plant-based</td>\n",
       "    </tr>\n",
       "  </tbody>\n",
       "</table>\n",
       "<p>5 rows × 24 columns</p>\n",
       "</div>"
      ],
      "text/plain": [
       "          Food product  Land use change  Animal Feed  Farm  Processing  \\\n",
       "0  Wheat & Rye (Bread)              0.1          0.0   0.8         0.2   \n",
       "1         Maize (Meal)              0.3          0.0   0.5         0.1   \n",
       "2        Barley (Beer)              0.0          0.0   0.2         0.1   \n",
       "3              Oatmeal              0.0          0.0   1.4         0.0   \n",
       "4                 Rice              0.0          0.0   3.6         0.1   \n",
       "\n",
       "   Transport  Packging  Retail  Total_emissions  \\\n",
       "0        0.1       0.1     0.1              1.4   \n",
       "1        0.1       0.1     0.0              1.1   \n",
       "2        0.0       0.5     0.3              1.1   \n",
       "3        0.1       0.1     0.0              1.6   \n",
       "4        0.1       0.1     0.1              4.0   \n",
       "\n",
       "   Eutrophying emissions per 1000kcal (gPO₄eq per 1000kcal)  ...  \\\n",
       "0                                           2.700000         ...   \n",
       "1                                           0.900000         ...   \n",
       "2                                           0.500000         ...   \n",
       "3                                           4.281357         ...   \n",
       "4                                           9.514379         ...   \n",
       "\n",
       "   Freshwater withdrawals per kilogram (liters per kilogram)  \\\n",
       "0                                                NaN           \n",
       "1                                                NaN           \n",
       "2                                                NaN           \n",
       "3                                              482.4           \n",
       "4                                             2248.4           \n",
       "\n",
       "   Greenhouse gas emissions per 1000kcal (kgCO₂eq per 1000kcal)  \\\n",
       "0                                           0.590000              \n",
       "1                                           0.380000              \n",
       "2                                           0.240000              \n",
       "3                                           0.945482              \n",
       "4                                           1.207271              \n",
       "\n",
       "   Greenhouse gas emissions per 100g protein (kgCO₂eq per 100g protein)  \\\n",
       "0                                           1.290000                      \n",
       "1                                           1.790000                      \n",
       "2                                           0.000000                      \n",
       "3                                           1.907692                      \n",
       "4                                           6.267606                      \n",
       "\n",
       "   Land use per 1000kcal (m² per 1000kcal)  \\\n",
       "0                                      NaN   \n",
       "1                                      NaN   \n",
       "2                                      NaN   \n",
       "3                                 2.897446   \n",
       "4                                 0.759631   \n",
       "\n",
       "   Land use per kilogram (m² per kilogram)  \\\n",
       "0                                      NaN   \n",
       "1                                      NaN   \n",
       "2                                      NaN   \n",
       "3                                      7.6   \n",
       "4                                      2.8   \n",
       "\n",
       "   Land use per 100g protein (m² per 100g protein)  \\\n",
       "0                                              NaN   \n",
       "1                                              NaN   \n",
       "2                                              NaN   \n",
       "3                                         5.846154   \n",
       "4                                         3.943662   \n",
       "\n",
       "   Scarcity-weighted water use per kilogram (liters per kilogram)  \\\n",
       "0                                                NaN                \n",
       "1                                                NaN                \n",
       "2                                                NaN                \n",
       "3                                            18786.2                \n",
       "4                                            49576.3                \n",
       "\n",
       "   Scarcity-weighted water use per 100g protein (liters per 100g protein)  \\\n",
       "0                                                NaN                        \n",
       "1                                                NaN                        \n",
       "2                                                NaN                        \n",
       "3                                        14450.92308                        \n",
       "4                                        69825.77465                        \n",
       "\n",
       "   Scarcity-weighted water use per 1000kcal (liters per 1000 kilocalories)  \\\n",
       "0                                                NaN                         \n",
       "1                                                NaN                         \n",
       "2                                                NaN                         \n",
       "3                                        7162.104461                         \n",
       "4                                       13449.891480                         \n",
       "\n",
       "      Category  \n",
       "0  Plant-based  \n",
       "1  Plant-based  \n",
       "2  Plant-based  \n",
       "3  Plant-based  \n",
       "4  Plant-based  \n",
       "\n",
       "[5 rows x 24 columns]"
      ]
     },
     "execution_count": 53,
     "metadata": {},
     "output_type": "execute_result"
    }
   ],
   "source": [
    "df.head()"
   ]
  },
  {
   "cell_type": "code",
   "execution_count": 54,
   "id": "fdfd3239",
   "metadata": {},
   "outputs": [],
   "source": [
    "# --- Step 1: Group by Category and sum total emissions ---\n",
    "category_emissions = df.groupby(\"Category\")[\"Total_emissions\"].sum().reset_index()\n",
    "\n",
    "# --- Step 2: Sort for cleaner plotting ---\n",
    "category_emissions = category_emissions.sort_values(by=\"Total_emissions\", ascending=False)"
   ]
  },
  {
   "cell_type": "code",
   "execution_count": 58,
   "id": "9a7d0cf2",
   "metadata": {},
   "outputs": [
    {
     "data": {
      "image/png": "[encoded data removed]",
      "text/plain": [
       "<Figure size 720x576 with 1 Axes>"
      ]
     },
     "metadata": {},
     "output_type": "display_data"
    }
   ],
   "source": [
    "# --- Step 3: Plot ---\n",
    "sns.set_theme(style=\"darkgrid\")\n",
    "plt.figure(figsize=(10,8))\n",
    "ax = sns.barplot(\n",
    "    data=category_emissions,\n",
    "    x=\"Category\", \n",
    "    y=\"Total_emissions\",\n",
    "    palette={\"Animal-based\": \"tomato\", \"Plant-based\": \"seagreen\"}\n",
    ")\n",
    "\n",
    "# --- Add data labels manually ---\n",
    "for patch in ax.patches:\n",
    "    height = patch.get_height()\n",
    "    ax.text(\n",
    "        patch.get_x() + patch.get_width() / 2,\n",
    "        height + (0.02 * category_emissions[\"Total_emissions\"].max()),\n",
    "        f\"{height:,.2f}\",\n",
    "        ha=\"center\", va=\"bottom\", fontsize=10\n",
    "    )\n",
    "\n",
    "# --- Remove y-axis label and ticks ---\n",
    "ax.set_ylabel(\"\")\n",
    "ax.set_yticks([])\n",
    "\n",
    "plt.title(\"Total Greenhouse Gas Emissions by Food Category\")\n",
    "plt.xlabel(\"\")  # no x-axis label\n",
    "plt.show()"
   ]
  },
  {
   "cell_type": "markdown",
   "id": "2657cc87",
   "metadata": {},
   "source": [
    "### Q1. Which food products contribute the most to total greenhouse gas emissions?"
   ]
  },
  {
   "cell_type": "code",
   "execution_count": 19,
   "id": "f367d05f",
   "metadata": {},
   "outputs": [
    {
     "data": {
      "text/html": [
       "<div>\n",
       "<style scoped>\n",
       "    .dataframe tbody tr th:only-of-type {\n",
       "        vertical-align: middle;\n",
       "    }\n",
       "\n",
       "    .dataframe tbody tr th {\n",
       "        vertical-align: top;\n",
       "    }\n",
       "\n",
       "    .dataframe thead th {\n",
       "        text-align: right;\n",
       "    }\n",
       "</style>\n",
       "<table border=\"1\" class=\"dataframe\">\n",
       "  <thead>\n",
       "    <tr style=\"text-align: right;\">\n",
       "      <th></th>\n",
       "      <th>Food product</th>\n",
       "      <th>Total_emissions</th>\n",
       "      <th>Category</th>\n",
       "    </tr>\n",
       "  </thead>\n",
       "  <tbody>\n",
       "    <tr>\n",
       "      <th>33</th>\n",
       "      <td>Beef (beef herd)</td>\n",
       "      <td>59.6</td>\n",
       "      <td>Animal-based</td>\n",
       "    </tr>\n",
       "    <tr>\n",
       "      <th>35</th>\n",
       "      <td>Lamb &amp; Mutton</td>\n",
       "      <td>24.5</td>\n",
       "      <td>Animal-based</td>\n",
       "    </tr>\n",
       "    <tr>\n",
       "      <th>39</th>\n",
       "      <td>Cheese</td>\n",
       "      <td>21.2</td>\n",
       "      <td>Animal-based</td>\n",
       "    </tr>\n",
       "    <tr>\n",
       "      <th>34</th>\n",
       "      <td>Beef (dairy herd)</td>\n",
       "      <td>21.1</td>\n",
       "      <td>Animal-based</td>\n",
       "    </tr>\n",
       "    <tr>\n",
       "      <th>32</th>\n",
       "      <td>Dark Chocolate</td>\n",
       "      <td>18.7</td>\n",
       "      <td>Plant-based</td>\n",
       "    </tr>\n",
       "    <tr>\n",
       "      <th>31</th>\n",
       "      <td>Coffee</td>\n",
       "      <td>16.5</td>\n",
       "      <td>Plant-based</td>\n",
       "    </tr>\n",
       "    <tr>\n",
       "      <th>42</th>\n",
       "      <td>Shrimps (farmed)</td>\n",
       "      <td>11.8</td>\n",
       "      <td>Animal-based</td>\n",
       "    </tr>\n",
       "    <tr>\n",
       "      <th>16</th>\n",
       "      <td>Palm Oil</td>\n",
       "      <td>7.6</td>\n",
       "      <td>Plant-based</td>\n",
       "    </tr>\n",
       "    <tr>\n",
       "      <th>36</th>\n",
       "      <td>Pig Meat</td>\n",
       "      <td>7.2</td>\n",
       "      <td>Animal-based</td>\n",
       "    </tr>\n",
       "    <tr>\n",
       "      <th>37</th>\n",
       "      <td>Poultry Meat</td>\n",
       "      <td>6.1</td>\n",
       "      <td>Animal-based</td>\n",
       "    </tr>\n",
       "  </tbody>\n",
       "</table>\n",
       "</div>"
      ],
      "text/plain": [
       "         Food product  Total_emissions      Category\n",
       "33   Beef (beef herd)             59.6  Animal-based\n",
       "35      Lamb & Mutton             24.5  Animal-based\n",
       "39             Cheese             21.2  Animal-based\n",
       "34  Beef (dairy herd)             21.1  Animal-based\n",
       "32     Dark Chocolate             18.7   Plant-based\n",
       "31             Coffee             16.5   Plant-based\n",
       "42   Shrimps (farmed)             11.8  Animal-based\n",
       "16           Palm Oil              7.6   Plant-based\n",
       "36           Pig Meat              7.2  Animal-based\n",
       "37       Poultry Meat              6.1  Animal-based"
      ]
     },
     "execution_count": 19,
     "metadata": {},
     "output_type": "execute_result"
    }
   ],
   "source": [
    "top10_emissions = df.nlargest(10, \"Total_emissions\")[[\"Food product\", \"Total_emissions\", \"Category\"]]\n",
    "top10_emissions"
   ]
  },
  {
   "cell_type": "markdown",
   "id": "b3ac1bf5",
   "metadata": {},
   "source": [
    "### Visualize the top 10 emission contributors"
   ]
  },
  {
   "cell_type": "code",
   "execution_count": 20,
   "id": "36f84227",
   "metadata": {},
   "outputs": [
    {
     "name": "stderr",
     "output_type": "stream",
     "text": [
      "C:\\ProgramData\\Anaconda3\\lib\\site-packages\\matplotlib\\backends\\backend_agg.py:238: RuntimeWarning: Glyph 8322 missing from current font.\n",
      "  font.set_text(s, 0.0, flags=flags)\n",
      "C:\\ProgramData\\Anaconda3\\lib\\site-packages\\matplotlib\\backends\\backend_agg.py:201: RuntimeWarning: Glyph 8322 missing from current font.\n",
      "  font.set_text(s, 0, flags=flags)\n"
     ]
    },
    {
     "data": {
      "image/png": "[encoded data removed]",
      "text/plain": [
       "<Figure size 720x576 with 1 Axes>"
      ]
     },
     "metadata": {},
     "output_type": "display_data"
    }
   ],
   "source": [
    "# Set theme\n",
    "sns.set_theme(style=\"darkgrid\")\n",
    "\n",
    "# Custom color palette (Animal = red, Plant = green)\n",
    "palette = {\"Animal-based\": \"tomato\", \"Plant-based\": \"seagreen\"}\n",
    "\n",
    "# Plot\n",
    "plt.figure(figsize=(10,8))\n",
    "ax = sns.barplot(\n",
    "    data=top10_emissions.sort_values(\"Total_emissions\", ascending=False),  # sort highest first\n",
    "    x=\"Total_emissions\", \n",
    "    y=\"Food product\",\n",
    "    hue=\"Category\",\n",
    "    dodge=False,\n",
    "    palette=palette\n",
    ")\n",
    "\n",
    "# Add manual data labels\n",
    "for i, (value, category) in enumerate(zip(top10_emissions.sort_values(\"Total_emissions\", ascending=False)[\"Total_emissions\"],\n",
    "                                          top10_emissions.sort_values(\"Total_emissions\", ascending=False)[\"Category\"])):\n",
    "    ax.text(value + 0.3, i, f\"{value:.1f}\", va=\"center\", ha=\"left\", fontsize=9, color=\"black\")\n",
    "\n",
    "# Title\n",
    "plt.title(\"Top 10 Foods by Greenhouse Gas Emissions (kgCO₂eq per kg)\")\n",
    "\n",
    "# Remove x-axis label and ticks\n",
    "plt.xlabel(\"\")\n",
    "plt.xticks([])\n",
    "\n",
    "# Y-label\n",
    "plt.ylabel(\"Food Product\")\n",
    "\n",
    "# Legend\n",
    "plt.legend(title=\"Category\")\n",
    "\n",
    "plt.show()"
   ]
  },
  {
   "cell_type": "markdown",
   "id": "689d8ca1",
   "metadata": {},
   "source": [
    "Animal-based foods (especially red meats like beef and lamb) dominates the top contributors to emissions, while plant-based staples such as Dar Chocolate, Coffee and Palm Oil, not so much"
   ]
  },
  {
   "cell_type": "markdown",
   "id": "5f9d723f",
   "metadata": {},
   "source": [
    "### Q5. How does processing & transportation compare to farming in contributing to emissions?"
   ]
  },
  {
   "cell_type": "code",
   "execution_count": 21,
   "id": "9ef9180f",
   "metadata": {},
   "outputs": [
    {
     "data": {
      "text/html": [
       "<div>\n",
       "<style scoped>\n",
       "    .dataframe tbody tr th:only-of-type {\n",
       "        vertical-align: middle;\n",
       "    }\n",
       "\n",
       "    .dataframe tbody tr th {\n",
       "        vertical-align: top;\n",
       "    }\n",
       "\n",
       "    .dataframe thead th {\n",
       "        text-align: right;\n",
       "    }\n",
       "</style>\n",
       "<table border=\"1\" class=\"dataframe\">\n",
       "  <thead>\n",
       "    <tr style=\"text-align: right;\">\n",
       "      <th></th>\n",
       "      <th>Farm</th>\n",
       "      <th>Processing</th>\n",
       "      <th>Transport</th>\n",
       "    </tr>\n",
       "    <tr>\n",
       "      <th>Category</th>\n",
       "      <th></th>\n",
       "      <th></th>\n",
       "      <th></th>\n",
       "    </tr>\n",
       "  </thead>\n",
       "  <tbody>\n",
       "    <tr>\n",
       "      <th>Animal-based</th>\n",
       "      <td>64.002441</td>\n",
       "      <td>3.050641</td>\n",
       "      <td>1.464308</td>\n",
       "    </tr>\n",
       "    <tr>\n",
       "      <th>Plant-based</th>\n",
       "      <td>47.685684</td>\n",
       "      <td>6.350915</td>\n",
       "      <td>6.458558</td>\n",
       "    </tr>\n",
       "  </tbody>\n",
       "</table>\n",
       "</div>"
      ],
      "text/plain": [
       "                   Farm  Processing  Transport\n",
       "Category                                      \n",
       "Animal-based  64.002441    3.050641   1.464308\n",
       "Plant-based   47.685684    6.350915   6.458558"
      ]
     },
     "execution_count": 21,
     "metadata": {},
     "output_type": "execute_result"
    }
   ],
   "source": [
    "# Select only emission breakdown columns\n",
    "emission_breakdown = df[[\n",
    "    \"Food product\", \"Category\", \n",
    "    \"Farm\",\n",
    "    \"Processing\",\n",
    "    \"Transport\",\n",
    "    \"Total_emissions\"\n",
    "]]\n",
    "\n",
    "# Compute average emissions share by category\n",
    "emission_share = emission_breakdown.groupby(\"Category\").mean()\n",
    "\n",
    "# Normalize to percentages of total\n",
    "for col in [\"Farm\", \n",
    "            \"Processing\", \n",
    "            \"Transport\"]:\n",
    "    emission_share[col] = (emission_share[col] / emission_share[\"Total_emissions\"]) * 100\n",
    "\n",
    "emission_share = emission_share[[\n",
    "    \"Farm\",\n",
    "    \"Processing\",\n",
    "    \"Transport\"\n",
    "]]\n",
    "\n",
    "emission_share"
   ]
  },
  {
   "cell_type": "code",
   "execution_count": 22,
   "id": "e51b9abe",
   "metadata": {},
   "outputs": [
    {
     "data": {
      "image/png": "[encoded data removed]",
      "text/plain": [
       "<Figure size 864x432 with 2 Axes>"
      ]
     },
     "metadata": {},
     "output_type": "display_data"
    }
   ],
   "source": [
    "# Prepare data\n",
    "emission_share.reset_index(inplace=True)\n",
    "\n",
    "# Separate animal-based and plant-based shares\n",
    "animal_data = emission_share[emission_share[\"Category\"] == \"Animal-based\"].iloc[0]\n",
    "plant_data = emission_share[emission_share[\"Category\"] == \"Plant-based\"].iloc[0]\n",
    "\n",
    "# Labels and colors\n",
    "labels = [\"Farm\", \"Processing\", \"Transport\"]\n",
    "colors = [\"seagreen\", \"palegoldenrod\", \"skyblue\"]\n",
    "\n",
    "# --- Plot ---\n",
    "fig, axes = plt.subplots(1, 2, figsize=(12, 6))\n",
    "\n",
    "# Plant-based pie\n",
    "axes[0].pie(\n",
    "    [plant_data[l] for l in labels], labels=labels, autopct=\"%.1f%%\",\n",
    "    startangle=90, colors=colors\n",
    ")\n",
    "axes[0].set_title(\"Plant-based Foods\")\n",
    "\n",
    "# Animal-based pie\n",
    "axes[1].pie(\n",
    "    [animal_data[l] for l in labels], labels=labels, autopct=\"%.1f%%\",\n",
    "    startangle=90, colors=colors\n",
    ")\n",
    "axes[1].set_title(\"Animal-based Foods\")\n",
    "\n",
    "plt.suptitle(\"Emission Breakdown by Stage (Farm vs Processing vs Transport)\")\n",
    "plt.show()"
   ]
  },
  {
   "cell_type": "markdown",
   "id": "21175ba1",
   "metadata": {},
   "source": [
    "Farming accounts for the majority of emissions, while processing and transport will contribute relatively little (<15% of total emissions) for both Plant-based and Animal-based foods."
   ]
  },
  {
   "cell_type": "markdown",
   "id": "7bd24466",
   "metadata": {},
   "source": [
    "### Q3. What food products require the highest water withdrawals per kilogram?"
   ]
  },
  {
   "cell_type": "markdown",
   "id": "bf30736d",
   "metadata": {},
   "source": [
    "Water withdrawals, or water abstractions, is freshwater taken from ground or surface water sources, either permanently or temporarily, and conveyed to a place of use."
   ]
  },
  {
   "cell_type": "markdown",
   "id": "a529c7df",
   "metadata": {},
   "source": [
    "What is the effct of water withdrawal on the environment? The withdrawal of water is done mainly by sectors such as agriculture, industries, domestic sectors, and so on. An increase in the population and the activities associated with that increase lead to a rise in the consumption of water in day-to-day life, which is one of the largest problems and enables the implementation of water conservation in the world. "
   ]
  },
  {
   "cell_type": "code",
   "execution_count": 23,
   "id": "1dd39418",
   "metadata": {},
   "outputs": [
    {
     "data": {
      "text/html": [
       "<div>\n",
       "<style scoped>\n",
       "    .dataframe tbody tr th:only-of-type {\n",
       "        vertical-align: middle;\n",
       "    }\n",
       "\n",
       "    .dataframe tbody tr th {\n",
       "        vertical-align: top;\n",
       "    }\n",
       "\n",
       "    .dataframe thead th {\n",
       "        text-align: right;\n",
       "    }\n",
       "</style>\n",
       "<table border=\"1\" class=\"dataframe\">\n",
       "  <thead>\n",
       "    <tr style=\"text-align: right;\">\n",
       "      <th></th>\n",
       "      <th>Food product</th>\n",
       "      <th>Category</th>\n",
       "      <th>Freshwater withdrawals per kilogram (liters per kilogram)</th>\n",
       "    </tr>\n",
       "  </thead>\n",
       "  <tbody>\n",
       "    <tr>\n",
       "      <th>39</th>\n",
       "      <td>Cheese</td>\n",
       "      <td>Animal-based</td>\n",
       "      <td>5605.2</td>\n",
       "    </tr>\n",
       "    <tr>\n",
       "      <th>11</th>\n",
       "      <td>Nuts</td>\n",
       "      <td>Plant-based</td>\n",
       "      <td>4133.8</td>\n",
       "    </tr>\n",
       "    <tr>\n",
       "      <th>41</th>\n",
       "      <td>Fish (farmed)</td>\n",
       "      <td>Animal-based</td>\n",
       "      <td>3691.3</td>\n",
       "    </tr>\n",
       "    <tr>\n",
       "      <th>34</th>\n",
       "      <td>Beef (dairy herd)</td>\n",
       "      <td>Animal-based</td>\n",
       "      <td>2714.3</td>\n",
       "    </tr>\n",
       "    <tr>\n",
       "      <th>4</th>\n",
       "      <td>Rice</td>\n",
       "      <td>Plant-based</td>\n",
       "      <td>2248.4</td>\n",
       "    </tr>\n",
       "    <tr>\n",
       "      <th>19</th>\n",
       "      <td>Olive Oil</td>\n",
       "      <td>Plant-based</td>\n",
       "      <td>2141.8</td>\n",
       "    </tr>\n",
       "    <tr>\n",
       "      <th>12</th>\n",
       "      <td>Groundnuts</td>\n",
       "      <td>Plant-based</td>\n",
       "      <td>1852.3</td>\n",
       "    </tr>\n",
       "    <tr>\n",
       "      <th>35</th>\n",
       "      <td>Lamb &amp; Mutton</td>\n",
       "      <td>Animal-based</td>\n",
       "      <td>1802.8</td>\n",
       "    </tr>\n",
       "    <tr>\n",
       "      <th>36</th>\n",
       "      <td>Pig Meat</td>\n",
       "      <td>Animal-based</td>\n",
       "      <td>1795.8</td>\n",
       "    </tr>\n",
       "    <tr>\n",
       "      <th>33</th>\n",
       "      <td>Beef (beef herd)</td>\n",
       "      <td>Animal-based</td>\n",
       "      <td>1451.2</td>\n",
       "    </tr>\n",
       "  </tbody>\n",
       "</table>\n",
       "</div>"
      ],
      "text/plain": [
       "         Food product      Category  \\\n",
       "39             Cheese  Animal-based   \n",
       "11               Nuts   Plant-based   \n",
       "41      Fish (farmed)  Animal-based   \n",
       "34  Beef (dairy herd)  Animal-based   \n",
       "4                Rice   Plant-based   \n",
       "19          Olive Oil   Plant-based   \n",
       "12         Groundnuts   Plant-based   \n",
       "35      Lamb & Mutton  Animal-based   \n",
       "36           Pig Meat  Animal-based   \n",
       "33   Beef (beef herd)  Animal-based   \n",
       "\n",
       "    Freshwater withdrawals per kilogram (liters per kilogram)  \n",
       "39                                             5605.2          \n",
       "11                                             4133.8          \n",
       "41                                             3691.3          \n",
       "34                                             2714.3          \n",
       "4                                              2248.4          \n",
       "19                                             2141.8          \n",
       "12                                             1852.3          \n",
       "35                                             1802.8          \n",
       "36                                             1795.8          \n",
       "33                                             1451.2          "
      ]
     },
     "execution_count": 23,
     "metadata": {},
     "output_type": "execute_result"
    }
   ],
   "source": [
    "# Select relevant columns\n",
    "water_use = df[[\"Food product\", \"Category\", \"Freshwater withdrawals per kilogram (liters per kilogram)\"]]\n",
    "\n",
    "# Drop missing values\n",
    "water_use = water_use.dropna()\n",
    "\n",
    "# Sort by highest water use\n",
    "top10_water = water_use.sort_values(\n",
    "    by=\"Freshwater withdrawals per kilogram (liters per kilogram)\", \n",
    "    ascending=False\n",
    ").head(10)\n",
    "\n",
    "top10_water"
   ]
  },
  {
   "cell_type": "code",
   "execution_count": 24,
   "id": "6c96416f",
   "metadata": {},
   "outputs": [
    {
     "data": {
      "image/png": "[encoded data removed]",
      "text/plain": [
       "<Figure size 720x576 with 1 Axes>"
      ]
     },
     "metadata": {},
     "output_type": "display_data"
    }
   ],
   "source": [
    "sns.set_theme(style=\"darkgrid\")\n",
    "\n",
    "plt.figure(figsize=(10,8))\n",
    "ax = sns.barplot(\n",
    "    data=top10_water,\n",
    "    x=\"Freshwater withdrawals per kilogram (liters per kilogram)\",\n",
    "    y=\"Food product\",\n",
    "    hue=\"Category\",\n",
    "    dodge=False,\n",
    "    palette={\"Animal-based\": \"tomato\", \"Plant-based\": \"seagreen\"}\n",
    ")\n",
    "\n",
    "# Add labels\n",
    "for i, v in enumerate(top10_water[\"Freshwater withdrawals per kilogram (liters per kilogram)\"]):\n",
    "    ax.text(v + 200, i, f\"{v:,.0f}\", va=\"center\", fontsize=9)\n",
    "\n",
    "# Title\n",
    "plt.title(\"Top 10 Foods by Water Withdrawals (liters per kg)\")\n",
    "\n",
    "# Remove x-axis label and ticks\n",
    "ax.set_xlabel(\"\")  \n",
    "ax.set_xticks([])  \n",
    "\n",
    "plt.ylabel(\"Food Product\")\n",
    "plt.legend(title=\"Category\")\n",
    "plt.show()"
   ]
  },
  {
   "cell_type": "markdown",
   "id": "e0e1e498",
   "metadata": {},
   "source": [
    "### Q8. Between these 4 commonly grown crops in Ghana, rice, cassave, groundnut and maize, which crop has higher eutrophying emissions per kilogram and what does this mean for farmers aiming to minimize nutrient pollution?"
   ]
  },
  {
   "cell_type": "code",
   "execution_count": 25,
   "id": "1fac827d",
   "metadata": {},
   "outputs": [],
   "source": [
    "# external_eutrophying_kg = pd.read_csv('ourworldindata_Eutrophyingemissionperkg.csv')\n",
    "# external_eutrophying_kg.head()"
   ]
  },
  {
   "cell_type": "code",
   "execution_count": 26,
   "id": "f3719fa8",
   "metadata": {},
   "outputs": [],
   "source": [
    "# #drop two columns\n",
    "# external_eutrophying_kg = external_eutrophying_kg.drop(columns=[\"Code\", \"Year\"])"
   ]
  },
  {
   "cell_type": "code",
   "execution_count": 27,
   "id": "da29494c",
   "metadata": {},
   "outputs": [],
   "source": [
    "# rename columns\n",
    "# external_eutrophying_kg = external_eutrophying_kg.rename(columns={\n",
    "#     \"Entity\": \"Food product\",\n",
    "#     \"Eutrophying emissions per kilogram (Poore & Nemecek, 2018)\": \n",
    "#     \"Eutrophying emissions per kilogram (gPO₄eq per kilogram)\"\n",
    "# })"
   ]
  },
  {
   "cell_type": "code",
   "execution_count": 60,
   "id": "6b52a835",
   "metadata": {
    "scrolled": true
   },
   "outputs": [
    {
     "ename": "AttributeError",
     "evalue": "'AxesSubplot' object has no attribute 'bar_label'",
     "output_type": "error",
     "traceback": [
      "\u001b[1;31m---------------------------------------------------------------------------\u001b[0m",
      "\u001b[1;31mAttributeError\u001b[0m                            Traceback (most recent call last)",
      "\u001b[1;32m<ipython-input-60-7e4ae062d52c>\u001b[0m in \u001b[0;36m<module>\u001b[1;34m\u001b[0m\n\u001b[0;32m     38\u001b[0m \u001b[1;31m# --- STEP 5: Add data labels on each bar ---\u001b[0m\u001b[1;33m\u001b[0m\u001b[1;33m\u001b[0m\u001b[1;33m\u001b[0m\u001b[0m\n\u001b[0;32m     39\u001b[0m \u001b[1;32mfor\u001b[0m \u001b[0mcontainer\u001b[0m \u001b[1;32min\u001b[0m \u001b[0max\u001b[0m\u001b[1;33m.\u001b[0m\u001b[0mcontainers\u001b[0m\u001b[1;33m:\u001b[0m\u001b[1;33m\u001b[0m\u001b[1;33m\u001b[0m\u001b[0m\n\u001b[1;32m---> 40\u001b[1;33m     \u001b[0max\u001b[0m\u001b[1;33m.\u001b[0m\u001b[0mbar_label\u001b[0m\u001b[1;33m(\u001b[0m\u001b[0mcontainer\u001b[0m\u001b[1;33m,\u001b[0m \u001b[0mfmt\u001b[0m\u001b[1;33m=\u001b[0m\u001b[1;34m\"%.2f\"\u001b[0m\u001b[1;33m,\u001b[0m \u001b[0mlabel_type\u001b[0m\u001b[1;33m=\u001b[0m\u001b[1;34m\"edge\"\u001b[0m\u001b[1;33m,\u001b[0m \u001b[0mfontsize\u001b[0m\u001b[1;33m=\u001b[0m\u001b[1;36m8\u001b[0m\u001b[1;33m,\u001b[0m \u001b[0mpadding\u001b[0m\u001b[1;33m=\u001b[0m\u001b[1;36m2\u001b[0m\u001b[1;33m)\u001b[0m\u001b[1;33m\u001b[0m\u001b[1;33m\u001b[0m\u001b[0m\n\u001b[0m\u001b[0;32m     41\u001b[0m \u001b[1;33m\u001b[0m\u001b[0m\n\u001b[0;32m     42\u001b[0m \u001b[1;31m# --- STEP 6: Clean up labels ---\u001b[0m\u001b[1;33m\u001b[0m\u001b[1;33m\u001b[0m\u001b[1;33m\u001b[0m\u001b[0m\n",
      "\u001b[1;31mAttributeError\u001b[0m: 'AxesSubplot' object has no attribute 'bar_label'"
     ]
    },
    {
     "name": "stderr",
     "output_type": "stream",
     "text": [
      "C:\\ProgramData\\Anaconda3\\lib\\site-packages\\matplotlib\\backends\\backend_agg.py:238: RuntimeWarning: Glyph 8324 missing from current font.\n",
      "  font.set_text(s, 0.0, flags=flags)\n",
      "C:\\ProgramData\\Anaconda3\\lib\\site-packages\\matplotlib\\backends\\backend_agg.py:201: RuntimeWarning: Glyph 8324 missing from current font.\n",
      "  font.set_text(s, 0, flags=flags)\n"
     ]
    },
    {
     "data": {
      "image/png": "[encoded data removed]",
      "text/plain": [
       "<Figure size 864x504 with 1 Axes>"
      ]
     },
     "metadata": {},
     "output_type": "display_data"
    }
   ],
   "source": [
    "# --- STEP 1: Select all three eutrophying emission metrics ---\n",
    "eutrophying_all = df[[\n",
    "    \"Food product\",\n",
    "    \"Category\",\n",
    "    \"Eutrophying emissions per kilogram (gPO₄eq per kilogram)\",\n",
    "    \"Eutrophying emissions per 1000kcal (gPO₄eq per 1000kcal)\",\n",
    "    \"Eutrophying emissions per 100g protein (gPO₄eq per 100 grams protein)\"\n",
    "]]\n",
    "\n",
    "# --- STEP 2: Filter for the 4 crops of interest ---\n",
    "ghana_crops_all = eutrophying_all[\n",
    "    eutrophying_all[\"Food product\"].isin([\"Rice\", \"Maize (Meal)\", \"Cassava\", \"Groundnuts\"])\n",
    "]\n",
    "\n",
    "# --- STEP 3: Melt into long format for plotting ---\n",
    "ghana_crops_melted = ghana_crops_all.melt(\n",
    "    id_vars=[\"Food product\", \"Category\"],\n",
    "    value_vars=[\n",
    "        \"Eutrophying emissions per kilogram (gPO₄eq per kilogram)\",\n",
    "        \"Eutrophying emissions per 1000kcal (gPO₄eq per 1000kcal)\",\n",
    "        \"Eutrophying emissions per 100g protein (gPO₄eq per 100 grams protein)\"\n",
    "    ],\n",
    "    var_name=\"Metric\",\n",
    "    value_name=\"Eutrophying Emissions\"\n",
    ")\n",
    "\n",
    "# --- STEP 4: Plot grouped bar chart ---\n",
    "sns.set_theme(style=\"darkgrid\")\n",
    "plt.figure(figsize=(12,7))\n",
    "ax = sns.barplot(\n",
    "    data=ghana_crops_melted,\n",
    "    x=\"Eutrophying Emissions\",\n",
    "    y=\"Food product\",\n",
    "    hue=\"Metric\",\n",
    "    palette=[\"#1f77b4\", \"#ffcc66\", \"#2ca02c\"]  # nice distinct colors\n",
    ")\n",
    "\n",
    "# --- STEP 5: Add data labels on each bar ---\n",
    "for container in ax.containers:\n",
    "    ax.bar_label(container, fmt=\"%.2f\", label_type=\"edge\", fontsize=8, padding=2)\n",
    "\n",
    "# --- STEP 6: Clean up labels ---\n",
    "plt.title(\"Comparison of Eutrophying Emissions (kg, per 1000 kcal, per 100g protein)\")\n",
    "plt.xlabel(\"Eutrophying Emissions (gPO₄eq)\")\n",
    "plt.ylabel(\"\")  # removes y-axis label\n",
    "plt.legend(title=\"Metric\", bbox_to_anchor=(1.05, 1), loc=\"upper left\")\n",
    "plt.tight_layout()\n",
    "plt.show()"
   ]
  },
  {
   "cell_type": "code",
   "execution_count": 28,
   "id": "b1a5163e",
   "metadata": {},
   "outputs": [],
   "source": [
    "# Select relevant columns\n",
    "eutrophying = df[[\"Food product\", \"Category\", \"Eutrophying emissions per kilogram (gPO₄eq per kilogram)\"]]\n",
    "\n",
    "# Filter for the 4 crops of interest\n",
    "ghana_crops = eutrophying[\n",
    "    eutrophying[\"Food product\"].isin([\"Rice\", \"Maize (Meal)\", \"Cassava\", \"Groundnuts\"])\n",
    "]\n",
    "\n",
    "# print(\"Eutrophying emissions per kilogram (gPO₄eq per kg) for Ghana crops:\")"
   ]
  },
  {
   "cell_type": "code",
   "execution_count": 29,
   "id": "7ecc48e2",
   "metadata": {},
   "outputs": [],
   "source": [
    "# Sort crops by eutrophying emissions (ascending order)\n",
    "ghana_crops_sorted = ghana_crops.sort_values(\n",
    "    by=\"Eutrophying emissions per kilogram (gPO₄eq per kilogram)\",\n",
    "    ascending=False\n",
    ")"
   ]
  },
  {
   "cell_type": "code",
   "execution_count": 30,
   "id": "678c5cf0",
   "metadata": {},
   "outputs": [
    {
     "name": "stderr",
     "output_type": "stream",
     "text": [
      "C:\\ProgramData\\Anaconda3\\lib\\site-packages\\matplotlib\\backends\\backend_agg.py:238: RuntimeWarning: Glyph 8324 missing from current font.\n",
      "  font.set_text(s, 0.0, flags=flags)\n",
      "C:\\ProgramData\\Anaconda3\\lib\\site-packages\\matplotlib\\backends\\backend_agg.py:201: RuntimeWarning: Glyph 8324 missing from current font.\n",
      "  font.set_text(s, 0, flags=flags)\n"
     ]
    },
    {
     "data": {
      "image/png": "[encoded data removed]",
      "text/plain": [
       "<Figure size 576x432 with 1 Axes>"
      ]
     },
     "metadata": {},
     "output_type": "display_data"
    }
   ],
   "source": [
    "\n",
    "sns.set_theme(style=\"darkgrid\")\n",
    "\n",
    "plt.figure(figsize=(8,6))\n",
    "ax = sns.barplot(\n",
    "    data=ghana_crops_sorted,\n",
    "    x=\"Eutrophying emissions per kilogram (gPO₄eq per kilogram)\",\n",
    "    y=\"Food product\",\n",
    "    hue=\"Category\",\n",
    "    dodge=False,\n",
    "    palette={\"Plant-based\": \"palegoldenrod\"}\n",
    ")\n",
    "\n",
    "# Add data labels\n",
    "for i, v in enumerate(ghana_crops_sorted[\"Eutrophying emissions per kilogram (gPO₄eq per kilogram)\"]):\n",
    "    ax.text(v + 0.05, i, f\"{v:.2f}\", va=\"center\", fontsize=9)\n",
    "\n",
    "plt.title(\"Eutrophying Emissions per kg of Selected Ghana Crops\")\n",
    "plt.xlabel(\"Eutrophying emissions (gPO₄eq per kg)\")\n",
    "plt.ylabel(\"Food Product\")\n",
    "plt.legend([],[], frameon=False)  # remove legend since all are plant-based\n",
    "plt.show()"
   ]
  },
  {
   "cell_type": "code",
   "execution_count": 31,
   "id": "6ec5b399",
   "metadata": {},
   "outputs": [],
   "source": [
    "# Select relevant columns\n",
    "eutrophying_cal_pro = df[[\"Food product\", \"Category\", \"Eutrophying emissions per 1000kcal (gPO₄eq per 1000kcal)\", \"Eutrophying emissions per 100g protein (gPO₄eq per 100 grams protein)\"]]\n",
    "\n",
    "# Filter for the 4 crops of interest\n",
    "ghana_crops_cal_pro = eutrophying_cal_pro[\n",
    "    eutrophying_cal_pro[\"Food product\"].isin([\"Rice\", \"Maize (Meal)\", \"Cassava\", \"Groundnuts\"])\n",
    "]\n",
    "# ghana_crops_cal_pro"
   ]
  },
  {
   "cell_type": "code",
   "execution_count": 32,
   "id": "e2ce6f0f",
   "metadata": {},
   "outputs": [
    {
     "data": {
      "image/png": "[encoded data removed]",
      "text/plain": [
       "<Figure size 720x576 with 1 Axes>"
      ]
     },
     "metadata": {},
     "output_type": "display_data"
    }
   ],
   "source": [
    "# Melt the data for easier plotting\n",
    "ghana_crops_melted = ghana_crops_cal_pro.melt(\n",
    "    id_vars=[\"Food product\", \"Category\"],\n",
    "    value_vars=[\n",
    "        \"Eutrophying emissions per 1000kcal (gPO₄eq per 1000kcal)\", \n",
    "        \"Eutrophying emissions per 100g protein (gPO₄eq per 100 grams protein)\"\n",
    "    ],\n",
    "    var_name=\"Metric\",\n",
    "    value_name=\"Eutrophying Emissions\"\n",
    ")\n",
    "\n",
    "# Pivot to wide format for stacking\n",
    "pivot_data = ghana_crops_melted.pivot(\n",
    "    index=\"Food product\", columns=\"Metric\", values=\"Eutrophying Emissions\"\n",
    ").fillna(0)\n",
    "\n",
    "# --- Plot ---\n",
    "sns.set_theme(style=\"darkgrid\")\n",
    "fig, ax = plt.subplots(figsize=(10,8))\n",
    "\n",
    "# Stacked bar plot\n",
    "bottom = None\n",
    "colors = [\"seagreen\", \"palegoldenrod\"]\n",
    "\n",
    "for idx, metric in enumerate(pivot_data.columns):\n",
    "    ax.bar(\n",
    "        pivot_data.index, \n",
    "        pivot_data[metric], \n",
    "        bottom=bottom, \n",
    "        label=metric, \n",
    "        color=colors[idx]\n",
    "    )\n",
    "    bottom = pivot_data[metric] if bottom is None else bottom + pivot_data[metric]\n",
    "\n",
    "# Labels and title\n",
    "ax.set_ylabel(\"Eutrophying Emissions (gPO₄eq)\")\n",
    "ax.set_title(\"Eutrophying Emissions of Ghana Crops (per 1000 kcal vs per 100g protein)\")\n",
    "ax.legend(title=\"Metric\", bbox_to_anchor=(1.05, 1), loc=\"upper left\")\n",
    "plt.xticks(rotation=30)\n",
    "\n",
    "plt.show()"
   ]
  },
  {
   "cell_type": "markdown",
   "id": "86495022",
   "metadata": {},
   "source": [
    "### Greenhouse Emissions per kg, per 1000kcal and 100g protein"
   ]
  },
  {
   "cell_type": "code",
   "execution_count": 35,
   "id": "df483776",
   "metadata": {},
   "outputs": [
    {
     "name": "stderr",
     "output_type": "stream",
     "text": [
      "C:\\ProgramData\\Anaconda3\\lib\\site-packages\\matplotlib\\backends\\backend_agg.py:238: RuntimeWarning: Glyph 8322 missing from current font.\n",
      "  font.set_text(s, 0.0, flags=flags)\n",
      "C:\\ProgramData\\Anaconda3\\lib\\site-packages\\matplotlib\\backends\\backend_agg.py:201: RuntimeWarning: Glyph 8322 missing from current font.\n",
      "  font.set_text(s, 0, flags=flags)\n"
     ]
    },
    {
     "data": {
      "image/png": "[encoded data removed]",
      "text/plain": [
       "<Figure size 864x504 with 1 Axes>"
      ]
     },
     "metadata": {},
     "output_type": "display_data"
    }
   ],
   "source": [
    "# Step 1: Select relevant columns\n",
    "ghg_compare = df[[\n",
    "    \"Food product\", \n",
    "    \"Total_emissions\", \n",
    "    \"Greenhouse gas emissions per 1000kcal (kgCO₂eq per 1000kcal)\",\n",
    "    \"Greenhouse gas emissions per 100g protein (kgCO₂eq per 100g protein)\"\n",
    "]]\n",
    "\n",
    "# Step 2: Find top 10 emitters by Total_emissions\n",
    "top10_emitters = ghg_compare.nlargest(10, \"Total_emissions\")\n",
    "\n",
    "# Step 3: Melt into long format for plotting\n",
    "ghg_melted = top10_emitters.melt(\n",
    "    id_vars=\"Food product\", \n",
    "    var_name=\"Metric\", \n",
    "    value_name=\"Emissions\"\n",
    ")\n",
    "\n",
    "# Step 4: Plot grouped bar chart\n",
    "plt.figure(figsize=(12,7))\n",
    "ax = sns.barplot(\n",
    "    data=ghg_melted, \n",
    "    x=\"Emissions\", y=\"Food product\", hue=\"Metric\"\n",
    ")\n",
    "\n",
    "# --- Add data labels manually ---\n",
    "for patch in ax.patches:\n",
    "    width = patch.get_width()\n",
    "    ax.text(\n",
    "        width + 0.5,               # position slightly to the right of the bar\n",
    "        patch.get_y() + patch.get_height()/2,  # vertically center\n",
    "        f\"{width:.2f}\",            # format with 2 decimal places\n",
    "        va=\"center\",\n",
    "        fontsize=8\n",
    "    )\n",
    "\n",
    "plt.title(\"Comparison of Greenhouse Gas Emission Metrics (Top 10 Foods)\")\n",
    "plt.xlabel(\"Emissions (kgCO₂eq)\")\n",
    "plt.ylabel(\"Food Product\")\n",
    "plt.legend(title=\"Metric\")\n",
    "plt.show()"
   ]
  },
  {
   "cell_type": "code",
   "execution_count": null,
   "id": "bf018daa",
   "metadata": {},
   "outputs": [],
   "source": []
  }
 ],
 "metadata": {
  "kernelspec": {
   "display_name": "Python 3",
   "language": "python",
   "name": "python3"
  },
  "language_info": {
   "codemirror_mode": {
    "name": "ipython",
    "version": 3
   },
   "file_extension": ".py",
   "mimetype": "text/x-python",
   "name": "python",
   "nbconvert_exporter": "python",
   "pygments_lexer": "ipython3",
   "version": "3.8.8"
  }
 },
 "nbformat": 4,
 "nbformat_minor": 5
}
